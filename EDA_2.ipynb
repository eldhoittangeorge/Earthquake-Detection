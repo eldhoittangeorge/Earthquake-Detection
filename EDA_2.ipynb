{
 "cells": [
  {
   "cell_type": "code",
   "execution_count": 11,
   "id": "recreational-choir",
   "metadata": {},
   "outputs": [],
   "source": [
    "import pandas as pd\n",
    "import seaborn as sn\n",
    "from matplotlib import pyplot as plt\n",
    "import preprocessor as pr"
   ]
  },
  {
   "cell_type": "code",
   "execution_count": 12,
   "id": "dangerous-concrete",
   "metadata": {},
   "outputs": [],
   "source": [
    "data = pd.read_csv('Data/Bohol.csv')"
   ]
  },
  {
   "cell_type": "code",
   "execution_count": 13,
   "id": "cardiac-worth",
   "metadata": {},
   "outputs": [
    {
     "data": {
      "text/html": [
       "<div>\n",
       "<style scoped>\n",
       "    .dataframe tbody tr th:only-of-type {\n",
       "        vertical-align: middle;\n",
       "    }\n",
       "\n",
       "    .dataframe tbody tr th {\n",
       "        vertical-align: top;\n",
       "    }\n",
       "\n",
       "    .dataframe thead th {\n",
       "        text-align: right;\n",
       "    }\n",
       "</style>\n",
       "<table border=\"1\" class=\"dataframe\">\n",
       "  <thead>\n",
       "    <tr style=\"text-align: right;\">\n",
       "      <th></th>\n",
       "      <th>Tweet ID</th>\n",
       "      <th>Tweet Text</th>\n",
       "      <th>Information Source</th>\n",
       "      <th>Information Type</th>\n",
       "      <th>Informativeness</th>\n",
       "    </tr>\n",
       "  </thead>\n",
       "  <tbody>\n",
       "    <tr>\n",
       "      <th>0</th>\n",
       "      <td>389654490653396992</td>\n",
       "      <td>RT @mariexplorer: Good morning #cebu #sea #par...</td>\n",
       "      <td>Not labeled</td>\n",
       "      <td>Not labeled</td>\n",
       "      <td>Not related</td>\n",
       "    </tr>\n",
       "    <tr>\n",
       "      <th>1</th>\n",
       "      <td>389896900444319744</td>\n",
       "      <td>Where is Liloan Central Field and how do we ge...</td>\n",
       "      <td>Not labeled</td>\n",
       "      <td>Not labeled</td>\n",
       "      <td>Not related</td>\n",
       "    </tr>\n",
       "    <tr>\n",
       "      <th>2</th>\n",
       "      <td>389908166353231872</td>\n",
       "      <td>Earthquake in Iloilo, Philippines! My head's a...</td>\n",
       "      <td>Eyewitness</td>\n",
       "      <td>Sympathy and support</td>\n",
       "      <td>Related - but not informative</td>\n",
       "    </tr>\n",
       "    <tr>\n",
       "      <th>3</th>\n",
       "      <td>389909609190006784</td>\n",
       "      <td>RT @LastQuake: NEW: Felt #earthquake M7.0 - Bo...</td>\n",
       "      <td>Outsiders</td>\n",
       "      <td>Other Useful Information</td>\n",
       "      <td>Related and informative</td>\n",
       "    </tr>\n",
       "    <tr>\n",
       "      <th>4</th>\n",
       "      <td>389910137676107776</td>\n",
       "      <td>RT @NewEarthquake: 7.2 earthquake, 2km S of Nu...</td>\n",
       "      <td>Media</td>\n",
       "      <td>Other Useful Information</td>\n",
       "      <td>Related and informative</td>\n",
       "    </tr>\n",
       "  </tbody>\n",
       "</table>\n",
       "</div>"
      ],
      "text/plain": [
       "             Tweet ID                                         Tweet Text  \\\n",
       "0  389654490653396992  RT @mariexplorer: Good morning #cebu #sea #par...   \n",
       "1  389896900444319744  Where is Liloan Central Field and how do we ge...   \n",
       "2  389908166353231872  Earthquake in Iloilo, Philippines! My head's a...   \n",
       "3  389909609190006784  RT @LastQuake: NEW: Felt #earthquake M7.0 - Bo...   \n",
       "4  389910137676107776  RT @NewEarthquake: 7.2 earthquake, 2km S of Nu...   \n",
       "\n",
       "   Information Source          Information Type                Informativeness  \n",
       "0         Not labeled               Not labeled                    Not related  \n",
       "1         Not labeled               Not labeled                    Not related  \n",
       "2          Eyewitness      Sympathy and support  Related - but not informative  \n",
       "3           Outsiders  Other Useful Information        Related and informative  \n",
       "4               Media  Other Useful Information        Related and informative  "
      ]
     },
     "execution_count": 13,
     "metadata": {},
     "output_type": "execute_result"
    }
   ],
   "source": [
    "data.head()"
   ]
  },
  {
   "cell_type": "code",
   "execution_count": 25,
   "id": "adverse-helen",
   "metadata": {},
   "outputs": [],
   "source": [
    "data.columns = data.columns.map(lambda x : x.strip())"
   ]
  },
  {
   "cell_type": "code",
   "execution_count": 26,
   "id": "corrected-socket",
   "metadata": {},
   "outputs": [],
   "source": [
    "required_data = data[['Tweet Text', 'Informativeness']]"
   ]
  },
  {
   "cell_type": "code",
   "execution_count": 47,
   "id": "empty-manitoba",
   "metadata": {},
   "outputs": [
    {
     "data": {
      "text/plain": [
       "0                                         : Good morning\n",
       "1      Where is Liloan Central Field and how do we ge...\n",
       "2      Earthquake in Iloilo, Philippines! My head's a...\n",
       "3      : NEW: Felt M7.0 - Bohol, Philippines - Octobe...\n",
       "4      : earthquake, km S of Nueva Vida Sur, Philippi...\n",
       "                             ...                        \n",
       "995              Funds were low for living so I moved to\n",
       "996    The provincial government will give financial ...\n",
       "997                    Get the latest insights from on .\n",
       "998    : Yesterday, the President was in Bohol overse...\n",
       "999    : At least dead, churches destroyed as earthqu...\n",
       "Name: Tweet Text, Length: 1000, dtype: object"
      ]
     },
     "execution_count": 47,
     "metadata": {},
     "output_type": "execute_result"
    }
   ],
   "source": [
    "required_data.iloc[:,0]"
   ]
  },
  {
   "cell_type": "code",
   "execution_count": 43,
   "id": "electric-lover",
   "metadata": {},
   "outputs": [
    {
     "name": "stderr",
     "output_type": "stream",
     "text": [
      "<ipython-input-43-dfb12a54a544>:1: SettingWithCopyWarning: \n",
      "A value is trying to be set on a copy of a slice from a DataFrame.\n",
      "Try using .loc[row_indexer,col_indexer] = value instead\n",
      "\n",
      "See the caveats in the documentation: https://pandas.pydata.org/pandas-docs/stable/user_guide/indexing.html#returning-a-view-versus-a-copy\n",
      "  required_data['Tweet Text'] = required_data.iloc[:,0].map(lambda tweet : pr.clean(tweet))\n"
     ]
    }
   ],
   "source": [
    "required_data['Tweet Text'] = required_data.iloc[:,0].map(lambda tweet : pr.clean(tweet))"
   ]
  },
  {
   "cell_type": "code",
   "execution_count": 52,
   "id": "subject-venice",
   "metadata": {},
   "outputs": [
    {
     "data": {
      "text/plain": [
       "Related - but not informative    544\n",
       "Related and informative          425\n",
       "Not related                       31\n",
       "Name: Informativeness, dtype: int64"
      ]
     },
     "execution_count": 52,
     "metadata": {},
     "output_type": "execute_result"
    }
   ],
   "source": [
    "required_data['Informativeness'].value_counts()"
   ]
  },
  {
   "cell_type": "code",
   "execution_count": 64,
   "id": "structural-bolivia",
   "metadata": {},
   "outputs": [],
   "source": [
    "new_labels = {\"Related and informative\":1,\"Related - but not informative\":0,\"Not related\":0}"
   ]
  },
  {
   "cell_type": "code",
   "execution_count": 65,
   "id": "angry-april",
   "metadata": {},
   "outputs": [
    {
     "data": {
      "text/plain": [
       "{'Related and informative': 1,\n",
       " 'Related - but not informative': 0,\n",
       " 'Not related': 0}"
      ]
     },
     "execution_count": 65,
     "metadata": {},
     "output_type": "execute_result"
    }
   ],
   "source": [
    "new_labels"
   ]
  },
  {
   "cell_type": "code",
   "execution_count": 66,
   "id": "documentary-effect",
   "metadata": {},
   "outputs": [
    {
     "name": "stderr",
     "output_type": "stream",
     "text": [
      "/Users/eldhoittangeorge/opt/anaconda3/envs/ds/lib/python3.8/site-packages/pandas/core/generic.py:5491: SettingWithCopyWarning: \n",
      "A value is trying to be set on a copy of a slice from a DataFrame.\n",
      "Try using .loc[row_indexer,col_indexer] = value instead\n",
      "\n",
      "See the caveats in the documentation: https://pandas.pydata.org/pandas-docs/stable/user_guide/indexing.html#returning-a-view-versus-a-copy\n",
      "  self[name] = value\n"
     ]
    }
   ],
   "source": [
    "required_data.Informativeness = required_data.Informativeness.replace(new_labels)"
   ]
  },
  {
   "cell_type": "code",
   "execution_count": 67,
   "id": "smart-adapter",
   "metadata": {},
   "outputs": [
    {
     "data": {
      "text/plain": [
       "0    575\n",
       "1    425\n",
       "Name: Informativeness, dtype: int64"
      ]
     },
     "execution_count": 67,
     "metadata": {},
     "output_type": "execute_result"
    }
   ],
   "source": [
    "required_data.Informativeness.value_counts()"
   ]
  },
  {
   "cell_type": "code",
   "execution_count": 68,
   "id": "dangerous-canyon",
   "metadata": {},
   "outputs": [],
   "source": [
    "required_data.to_csv(\"Data/new_data.csv\",index=False)"
   ]
  },
  {
   "cell_type": "code",
   "execution_count": null,
   "id": "macro-repair",
   "metadata": {},
   "outputs": [],
   "source": []
  }
 ],
 "metadata": {
  "kernelspec": {
   "display_name": "Python 3",
   "language": "python",
   "name": "python3"
  },
  "language_info": {
   "codemirror_mode": {
    "name": "ipython",
    "version": 3
   },
   "file_extension": ".py",
   "mimetype": "text/x-python",
   "name": "python",
   "nbconvert_exporter": "python",
   "pygments_lexer": "ipython3",
   "version": "3.8.5"
  }
 },
 "nbformat": 4,
 "nbformat_minor": 5
}
