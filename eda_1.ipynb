{
 "cells": [
  {
   "cell_type": "code",
   "execution_count": 1,
   "outputs": [],
   "source": [
    "import pandas as pd"
   ],
   "metadata": {
    "collapsed": false,
    "pycharm": {
     "name": "#%%\n"
    }
   }
  },
  {
   "cell_type": "code",
   "execution_count": 3,
   "outputs": [
    {
     "data": {
      "text/plain": "             Tweet ID                                         Tweet Text  \\\n0  389654490653396992  RT @mariexplorer: Good morning #cebu #sea #par...   \n1  389896900444319744  Where is Liloan Central Field and how do we ge...   \n2  389908166353231872  Earthquake in Iloilo, Philippines! My head's a...   \n3  389909609190006784  RT @LastQuake: NEW: Felt #earthquake M7.0 - Bo...   \n4  389910137676107776  RT @NewEarthquake: 7.2 earthquake, 2km S of Nu...   \n5  389910670361100288  RT @gmanews: JUST IN: Magnitude 7.2 earthquake...   \n6  389911173665001472  RT @NewEarthquake: 7.2 earthquake, 2km S of Nu...   \n7  389911358214393856  RT @gmanews: JUST IN: Magnitude 7.2 earthquake...   \n8  389911794442964992  RT @BreakingNews: 7.2 earthquake recorded in t...   \n9  389911937040932864  RT @NewEarthquake: 7.2 earthquake, 2km S of Nu...   \n\n   Information Source          Information Type                Informativeness  \n0         Not labeled               Not labeled                    Not related  \n1         Not labeled               Not labeled                    Not related  \n2          Eyewitness      Sympathy and support  Related - but not informative  \n3           Outsiders  Other Useful Information        Related and informative  \n4               Media  Other Useful Information        Related and informative  \n5               Media  Other Useful Information        Related and informative  \n6               Media  Other Useful Information        Related and informative  \n7               Media  Other Useful Information        Related and informative  \n8               Media  Other Useful Information        Related and informative  \n9               Media  Other Useful Information        Related and informative  ",
      "text/html": "<div>\n<style scoped>\n    .dataframe tbody tr th:only-of-type {\n        vertical-align: middle;\n    }\n\n    .dataframe tbody tr th {\n        vertical-align: top;\n    }\n\n    .dataframe thead th {\n        text-align: right;\n    }\n</style>\n<table border=\"1\" class=\"dataframe\">\n  <thead>\n    <tr style=\"text-align: right;\">\n      <th></th>\n      <th>Tweet ID</th>\n      <th>Tweet Text</th>\n      <th>Information Source</th>\n      <th>Information Type</th>\n      <th>Informativeness</th>\n    </tr>\n  </thead>\n  <tbody>\n    <tr>\n      <th>0</th>\n      <td>389654490653396992</td>\n      <td>RT @mariexplorer: Good morning #cebu #sea #par...</td>\n      <td>Not labeled</td>\n      <td>Not labeled</td>\n      <td>Not related</td>\n    </tr>\n    <tr>\n      <th>1</th>\n      <td>389896900444319744</td>\n      <td>Where is Liloan Central Field and how do we ge...</td>\n      <td>Not labeled</td>\n      <td>Not labeled</td>\n      <td>Not related</td>\n    </tr>\n    <tr>\n      <th>2</th>\n      <td>389908166353231872</td>\n      <td>Earthquake in Iloilo, Philippines! My head's a...</td>\n      <td>Eyewitness</td>\n      <td>Sympathy and support</td>\n      <td>Related - but not informative</td>\n    </tr>\n    <tr>\n      <th>3</th>\n      <td>389909609190006784</td>\n      <td>RT @LastQuake: NEW: Felt #earthquake M7.0 - Bo...</td>\n      <td>Outsiders</td>\n      <td>Other Useful Information</td>\n      <td>Related and informative</td>\n    </tr>\n    <tr>\n      <th>4</th>\n      <td>389910137676107776</td>\n      <td>RT @NewEarthquake: 7.2 earthquake, 2km S of Nu...</td>\n      <td>Media</td>\n      <td>Other Useful Information</td>\n      <td>Related and informative</td>\n    </tr>\n    <tr>\n      <th>5</th>\n      <td>389910670361100288</td>\n      <td>RT @gmanews: JUST IN: Magnitude 7.2 earthquake...</td>\n      <td>Media</td>\n      <td>Other Useful Information</td>\n      <td>Related and informative</td>\n    </tr>\n    <tr>\n      <th>6</th>\n      <td>389911173665001472</td>\n      <td>RT @NewEarthquake: 7.2 earthquake, 2km S of Nu...</td>\n      <td>Media</td>\n      <td>Other Useful Information</td>\n      <td>Related and informative</td>\n    </tr>\n    <tr>\n      <th>7</th>\n      <td>389911358214393856</td>\n      <td>RT @gmanews: JUST IN: Magnitude 7.2 earthquake...</td>\n      <td>Media</td>\n      <td>Other Useful Information</td>\n      <td>Related and informative</td>\n    </tr>\n    <tr>\n      <th>8</th>\n      <td>389911794442964992</td>\n      <td>RT @BreakingNews: 7.2 earthquake recorded in t...</td>\n      <td>Media</td>\n      <td>Other Useful Information</td>\n      <td>Related and informative</td>\n    </tr>\n    <tr>\n      <th>9</th>\n      <td>389911937040932864</td>\n      <td>RT @NewEarthquake: 7.2 earthquake, 2km S of Nu...</td>\n      <td>Media</td>\n      <td>Other Useful Information</td>\n      <td>Related and informative</td>\n    </tr>\n  </tbody>\n</table>\n</div>"
     },
     "execution_count": 3,
     "metadata": {},
     "output_type": "execute_result"
    }
   ],
   "source": [
    "data = pd.read_csv('Data/2013_Bohol_earthquake-tweets_labeled.csv')\n",
    "data.head(10)\n"
   ],
   "metadata": {
    "collapsed": false,
    "pycharm": {
     "name": "#%%\n"
    }
   }
  },
  {
   "cell_type": "code",
   "execution_count": 21,
   "outputs": [],
   "source": [
    "data.columns = data.columns.map(lambda x : x.strip())\n"
   ],
   "metadata": {
    "collapsed": false,
    "pycharm": {
     "name": "#%%\n"
    }
   }
  },
  {
   "cell_type": "code",
   "execution_count": 24,
   "outputs": [
    {
     "data": {
      "text/plain": "                                            Tweet Text  \\\n0    RT @mariexplorer: Good morning #cebu #sea #par...   \n1    Where is Liloan Central Field and how do we ge...   \n2    Earthquake in Iloilo, Philippines! My head's a...   \n3    RT @LastQuake: NEW: Felt #earthquake M7.0 - Bo...   \n4    RT @NewEarthquake: 7.2 earthquake, 2km S of Nu...   \n..                                                 ...   \n995  Funds were low for #Western living so I moved ...   \n996  @TV5manila #BangonSugbohol #earthquakePH The #...   \n997  Get the latest #tech insights from @wilsonng o...   \n998  RT @pcdspo: Yesterday, the President was in Bo...   \n999  RT @bayeraUS: At least 82 dead, churches destr...   \n\n                   Informativeness  \n0                      Not related  \n1                      Not related  \n2    Related - but not informative  \n3          Related and informative  \n4          Related and informative  \n..                             ...  \n995                    Not related  \n996        Related and informative  \n997                    Not related  \n998        Related and informative  \n999        Related and informative  \n\n[1000 rows x 2 columns]",
      "text/html": "<div>\n<style scoped>\n    .dataframe tbody tr th:only-of-type {\n        vertical-align: middle;\n    }\n\n    .dataframe tbody tr th {\n        vertical-align: top;\n    }\n\n    .dataframe thead th {\n        text-align: right;\n    }\n</style>\n<table border=\"1\" class=\"dataframe\">\n  <thead>\n    <tr style=\"text-align: right;\">\n      <th></th>\n      <th>Tweet Text</th>\n      <th>Informativeness</th>\n    </tr>\n  </thead>\n  <tbody>\n    <tr>\n      <th>0</th>\n      <td>RT @mariexplorer: Good morning #cebu #sea #par...</td>\n      <td>Not related</td>\n    </tr>\n    <tr>\n      <th>1</th>\n      <td>Where is Liloan Central Field and how do we ge...</td>\n      <td>Not related</td>\n    </tr>\n    <tr>\n      <th>2</th>\n      <td>Earthquake in Iloilo, Philippines! My head's a...</td>\n      <td>Related - but not informative</td>\n    </tr>\n    <tr>\n      <th>3</th>\n      <td>RT @LastQuake: NEW: Felt #earthquake M7.0 - Bo...</td>\n      <td>Related and informative</td>\n    </tr>\n    <tr>\n      <th>4</th>\n      <td>RT @NewEarthquake: 7.2 earthquake, 2km S of Nu...</td>\n      <td>Related and informative</td>\n    </tr>\n    <tr>\n      <th>...</th>\n      <td>...</td>\n      <td>...</td>\n    </tr>\n    <tr>\n      <th>995</th>\n      <td>Funds were low for #Western living so I moved ...</td>\n      <td>Not related</td>\n    </tr>\n    <tr>\n      <th>996</th>\n      <td>@TV5manila #BangonSugbohol #earthquakePH The #...</td>\n      <td>Related and informative</td>\n    </tr>\n    <tr>\n      <th>997</th>\n      <td>Get the latest #tech insights from @wilsonng o...</td>\n      <td>Not related</td>\n    </tr>\n    <tr>\n      <th>998</th>\n      <td>RT @pcdspo: Yesterday, the President was in Bo...</td>\n      <td>Related and informative</td>\n    </tr>\n    <tr>\n      <th>999</th>\n      <td>RT @bayeraUS: At least 82 dead, churches destr...</td>\n      <td>Related and informative</td>\n    </tr>\n  </tbody>\n</table>\n<p>1000 rows × 2 columns</p>\n</div>"
     },
     "execution_count": 24,
     "metadata": {},
     "output_type": "execute_result"
    }
   ],
   "source": [
    "required_columns = data[['Tweet Text','Informativeness']]\n",
    "required_columns"
   ],
   "metadata": {
    "collapsed": false,
    "pycharm": {
     "name": "#%%\n"
    }
   }
  },
  {
   "cell_type": "markdown",
   "source": [
    "### Cleaning the Tweets\n",
    "- Removing links\n",
    "- Removing RT\n",
    "- Removing mentions\n",
    "- Removing smileys"
   ],
   "metadata": {
    "collapsed": false,
    "pycharm": {
     "name": "#%% md\n"
    }
   }
  },
  {
   "cell_type": "markdown",
   "source": [
    "#### Removing Links"
   ],
   "metadata": {
    "collapsed": false,
    "pycharm": {
     "name": "#%% md\n"
    }
   }
  },
  {
   "cell_type": "code",
   "execution_count": 29,
   "outputs": [
    {
     "ename": "AssertionError",
     "evalue": "",
     "output_type": "error",
     "traceback": [
      "\u001B[0;31m---------------------------------------------------------------------------\u001B[0m",
      "\u001B[0;31mAssertionError\u001B[0m                            Traceback (most recent call last)",
      "\u001B[0;32m<ipython-input-29-91a06601e3da>\u001B[0m in \u001B[0;36m<module>\u001B[0;34m\u001B[0m\n\u001B[0;32m----> 1\u001B[0;31m \u001B[0;32massert\u001B[0m \u001B[0;36m1\u001B[0m \u001B[0;34m==\u001B[0m \u001B[0;36m2\u001B[0m\u001B[0;34m\u001B[0m\u001B[0;34m\u001B[0m\u001B[0m\n\u001B[0m\u001B[1;32m      2\u001B[0m \u001B[0;34m\u001B[0m\u001B[0m\n",
      "\u001B[0;31mAssertionError\u001B[0m: "
     ]
    }
   ],
   "source": [
    "assert 1 == 2"
   ],
   "metadata": {
    "collapsed": false,
    "pycharm": {
     "name": "#%%\n"
    }
   }
  },
  {
   "cell_type": "code",
   "execution_count": null,
   "outputs": [],
   "source": [],
   "metadata": {
    "collapsed": false,
    "pycharm": {
     "name": "#%%\n"
    }
   }
  }
 ],
 "metadata": {
  "kernelspec": {
   "display_name": "Python 3",
   "language": "python",
   "name": "python3"
  },
  "language_info": {
   "codemirror_mode": {
    "name": "ipython",
    "version": 2
   },
   "file_extension": ".py",
   "mimetype": "text/x-python",
   "name": "python",
   "nbconvert_exporter": "python",
   "pygments_lexer": "ipython2",
   "version": "2.7.6"
  }
 },
 "nbformat": 4,
 "nbformat_minor": 0
}