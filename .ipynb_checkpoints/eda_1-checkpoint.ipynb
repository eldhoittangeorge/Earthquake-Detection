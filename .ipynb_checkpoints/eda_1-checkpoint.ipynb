{
 "cells": [
  {
   "cell_type": "code",
   "execution_count": 1,
   "metadata": {
    "collapsed": false,
    "jupyter": {
     "outputs_hidden": false
    },
    "pycharm": {
     "name": "#%%\n"
    }
   },
   "outputs": [
    {
     "ename": "ModuleNotFoundError",
     "evalue": "No module named 'pandas'",
     "output_type": "error",
     "traceback": [
      "\u001b[1;31m---------------------------------------------------------------------------\u001b[0m",
      "\u001b[1;31mModuleNotFoundError\u001b[0m                       Traceback (most recent call last)",
      "\u001b[1;32m<ipython-input-1-eccd23cda5ba>\u001b[0m in \u001b[0;36m<module>\u001b[1;34m\u001b[0m\n\u001b[1;32m----> 1\u001b[1;33m \u001b[1;32mimport\u001b[0m \u001b[0mpandas\u001b[0m \u001b[1;32mas\u001b[0m \u001b[0mpd\u001b[0m\u001b[1;33m\u001b[0m\u001b[1;33m\u001b[0m\u001b[0m\n\u001b[0m\u001b[0;32m      2\u001b[0m \u001b[1;32mimport\u001b[0m \u001b[0mre\u001b[0m\u001b[1;33m\u001b[0m\u001b[1;33m\u001b[0m\u001b[0m\n\u001b[0;32m      3\u001b[0m \u001b[1;32mimport\u001b[0m \u001b[0municodedata\u001b[0m\u001b[1;33m\u001b[0m\u001b[1;33m\u001b[0m\u001b[0m\n",
      "\u001b[1;31mModuleNotFoundError\u001b[0m: No module named 'pandas'"
     ]
    }
   ],
   "source": [
    "import pandas as pd\n",
    "import re\n",
    "import unicodedata\n"
   ]
  },
  {
   "cell_type": "code",
   "execution_count": 3,
   "metadata": {
    "collapsed": false,
    "jupyter": {
     "outputs_hidden": false
    },
    "pycharm": {
     "name": "#%%\n"
    }
   },
   "outputs": [
    {
     "data": {
      "text/html": [
       "<div>\n",
       "<style scoped>\n",
       "    .dataframe tbody tr th:only-of-type {\n",
       "        vertical-align: middle;\n",
       "    }\n",
       "\n",
       "    .dataframe tbody tr th {\n",
       "        vertical-align: top;\n",
       "    }\n",
       "\n",
       "    .dataframe thead th {\n",
       "        text-align: right;\n",
       "    }\n",
       "</style>\n",
       "<table border=\"1\" class=\"dataframe\">\n",
       "  <thead>\n",
       "    <tr style=\"text-align: right;\">\n",
       "      <th></th>\n",
       "      <th>Tweet ID</th>\n",
       "      <th>Tweet Text</th>\n",
       "      <th>Information Source</th>\n",
       "      <th>Information Type</th>\n",
       "      <th>Informativeness</th>\n",
       "    </tr>\n",
       "  </thead>\n",
       "  <tbody>\n",
       "    <tr>\n",
       "      <th>0</th>\n",
       "      <td>389654490653396992</td>\n",
       "      <td>RT @mariexplorer: Good morning #cebu #sea #par...</td>\n",
       "      <td>Not labeled</td>\n",
       "      <td>Not labeled</td>\n",
       "      <td>Not related</td>\n",
       "    </tr>\n",
       "    <tr>\n",
       "      <th>1</th>\n",
       "      <td>389896900444319744</td>\n",
       "      <td>Where is Liloan Central Field and how do we ge...</td>\n",
       "      <td>Not labeled</td>\n",
       "      <td>Not labeled</td>\n",
       "      <td>Not related</td>\n",
       "    </tr>\n",
       "    <tr>\n",
       "      <th>2</th>\n",
       "      <td>389908166353231872</td>\n",
       "      <td>Earthquake in Iloilo, Philippines! My head's a...</td>\n",
       "      <td>Eyewitness</td>\n",
       "      <td>Sympathy and support</td>\n",
       "      <td>Related - but not informative</td>\n",
       "    </tr>\n",
       "    <tr>\n",
       "      <th>3</th>\n",
       "      <td>389909609190006784</td>\n",
       "      <td>RT @LastQuake: NEW: Felt #earthquake M7.0 - Bo...</td>\n",
       "      <td>Outsiders</td>\n",
       "      <td>Other Useful Information</td>\n",
       "      <td>Related and informative</td>\n",
       "    </tr>\n",
       "    <tr>\n",
       "      <th>4</th>\n",
       "      <td>389910137676107776</td>\n",
       "      <td>RT @NewEarthquake: 7.2 earthquake, 2km S of Nu...</td>\n",
       "      <td>Media</td>\n",
       "      <td>Other Useful Information</td>\n",
       "      <td>Related and informative</td>\n",
       "    </tr>\n",
       "    <tr>\n",
       "      <th>5</th>\n",
       "      <td>389910670361100288</td>\n",
       "      <td>RT @gmanews: JUST IN: Magnitude 7.2 earthquake...</td>\n",
       "      <td>Media</td>\n",
       "      <td>Other Useful Information</td>\n",
       "      <td>Related and informative</td>\n",
       "    </tr>\n",
       "    <tr>\n",
       "      <th>6</th>\n",
       "      <td>389911173665001472</td>\n",
       "      <td>RT @NewEarthquake: 7.2 earthquake, 2km S of Nu...</td>\n",
       "      <td>Media</td>\n",
       "      <td>Other Useful Information</td>\n",
       "      <td>Related and informative</td>\n",
       "    </tr>\n",
       "    <tr>\n",
       "      <th>7</th>\n",
       "      <td>389911358214393856</td>\n",
       "      <td>RT @gmanews: JUST IN: Magnitude 7.2 earthquake...</td>\n",
       "      <td>Media</td>\n",
       "      <td>Other Useful Information</td>\n",
       "      <td>Related and informative</td>\n",
       "    </tr>\n",
       "    <tr>\n",
       "      <th>8</th>\n",
       "      <td>389911794442964992</td>\n",
       "      <td>RT @BreakingNews: 7.2 earthquake recorded in t...</td>\n",
       "      <td>Media</td>\n",
       "      <td>Other Useful Information</td>\n",
       "      <td>Related and informative</td>\n",
       "    </tr>\n",
       "    <tr>\n",
       "      <th>9</th>\n",
       "      <td>389911937040932864</td>\n",
       "      <td>RT @NewEarthquake: 7.2 earthquake, 2km S of Nu...</td>\n",
       "      <td>Media</td>\n",
       "      <td>Other Useful Information</td>\n",
       "      <td>Related and informative</td>\n",
       "    </tr>\n",
       "  </tbody>\n",
       "</table>\n",
       "</div>"
      ],
      "text/plain": [
       "             Tweet ID                                         Tweet Text  \\\n",
       "0  389654490653396992  RT @mariexplorer: Good morning #cebu #sea #par...   \n",
       "1  389896900444319744  Where is Liloan Central Field and how do we ge...   \n",
       "2  389908166353231872  Earthquake in Iloilo, Philippines! My head's a...   \n",
       "3  389909609190006784  RT @LastQuake: NEW: Felt #earthquake M7.0 - Bo...   \n",
       "4  389910137676107776  RT @NewEarthquake: 7.2 earthquake, 2km S of Nu...   \n",
       "5  389910670361100288  RT @gmanews: JUST IN: Magnitude 7.2 earthquake...   \n",
       "6  389911173665001472  RT @NewEarthquake: 7.2 earthquake, 2km S of Nu...   \n",
       "7  389911358214393856  RT @gmanews: JUST IN: Magnitude 7.2 earthquake...   \n",
       "8  389911794442964992  RT @BreakingNews: 7.2 earthquake recorded in t...   \n",
       "9  389911937040932864  RT @NewEarthquake: 7.2 earthquake, 2km S of Nu...   \n",
       "\n",
       "   Information Source          Information Type                Informativeness  \n",
       "0         Not labeled               Not labeled                    Not related  \n",
       "1         Not labeled               Not labeled                    Not related  \n",
       "2          Eyewitness      Sympathy and support  Related - but not informative  \n",
       "3           Outsiders  Other Useful Information        Related and informative  \n",
       "4               Media  Other Useful Information        Related and informative  \n",
       "5               Media  Other Useful Information        Related and informative  \n",
       "6               Media  Other Useful Information        Related and informative  \n",
       "7               Media  Other Useful Information        Related and informative  \n",
       "8               Media  Other Useful Information        Related and informative  \n",
       "9               Media  Other Useful Information        Related and informative  "
      ]
     },
     "execution_count": 3,
     "metadata": {},
     "output_type": "execute_result"
    }
   ],
   "source": [
    "data = pd.read_csv('Data/2013_Bohol_earthquake-tweets_labeled.csv')\n",
    "data.head(10)\n"
   ]
  },
  {
   "cell_type": "code",
   "execution_count": 4,
   "metadata": {
    "collapsed": false,
    "jupyter": {
     "outputs_hidden": false
    },
    "pycharm": {
     "name": "#%%\n"
    }
   },
   "outputs": [],
   "source": [
    "data.columns = data.columns.map(lambda x : x.strip())\n"
   ]
  },
  {
   "cell_type": "code",
   "execution_count": 5,
   "metadata": {
    "collapsed": false,
    "jupyter": {
     "outputs_hidden": false
    },
    "pycharm": {
     "name": "#%%\n"
    }
   },
   "outputs": [
    {
     "data": {
      "text/html": [
       "<div>\n",
       "<style scoped>\n",
       "    .dataframe tbody tr th:only-of-type {\n",
       "        vertical-align: middle;\n",
       "    }\n",
       "\n",
       "    .dataframe tbody tr th {\n",
       "        vertical-align: top;\n",
       "    }\n",
       "\n",
       "    .dataframe thead th {\n",
       "        text-align: right;\n",
       "    }\n",
       "</style>\n",
       "<table border=\"1\" class=\"dataframe\">\n",
       "  <thead>\n",
       "    <tr style=\"text-align: right;\">\n",
       "      <th></th>\n",
       "      <th>Tweet Text</th>\n",
       "      <th>Informativeness</th>\n",
       "    </tr>\n",
       "  </thead>\n",
       "  <tbody>\n",
       "    <tr>\n",
       "      <th>0</th>\n",
       "      <td>RT @mariexplorer: Good morning #cebu #sea #par...</td>\n",
       "      <td>Not related</td>\n",
       "    </tr>\n",
       "    <tr>\n",
       "      <th>1</th>\n",
       "      <td>Where is Liloan Central Field and how do we ge...</td>\n",
       "      <td>Not related</td>\n",
       "    </tr>\n",
       "    <tr>\n",
       "      <th>2</th>\n",
       "      <td>Earthquake in Iloilo, Philippines! My head's a...</td>\n",
       "      <td>Related - but not informative</td>\n",
       "    </tr>\n",
       "    <tr>\n",
       "      <th>3</th>\n",
       "      <td>RT @LastQuake: NEW: Felt #earthquake M7.0 - Bo...</td>\n",
       "      <td>Related and informative</td>\n",
       "    </tr>\n",
       "    <tr>\n",
       "      <th>4</th>\n",
       "      <td>RT @NewEarthquake: 7.2 earthquake, 2km S of Nu...</td>\n",
       "      <td>Related and informative</td>\n",
       "    </tr>\n",
       "    <tr>\n",
       "      <th>...</th>\n",
       "      <td>...</td>\n",
       "      <td>...</td>\n",
       "    </tr>\n",
       "    <tr>\n",
       "      <th>995</th>\n",
       "      <td>Funds were low for #Western living so I moved ...</td>\n",
       "      <td>Not related</td>\n",
       "    </tr>\n",
       "    <tr>\n",
       "      <th>996</th>\n",
       "      <td>@TV5manila #BangonSugbohol #earthquakePH The #...</td>\n",
       "      <td>Related and informative</td>\n",
       "    </tr>\n",
       "    <tr>\n",
       "      <th>997</th>\n",
       "      <td>Get the latest #tech insights from @wilsonng o...</td>\n",
       "      <td>Not related</td>\n",
       "    </tr>\n",
       "    <tr>\n",
       "      <th>998</th>\n",
       "      <td>RT @pcdspo: Yesterday, the President was in Bo...</td>\n",
       "      <td>Related and informative</td>\n",
       "    </tr>\n",
       "    <tr>\n",
       "      <th>999</th>\n",
       "      <td>RT @bayeraUS: At least 82 dead, churches destr...</td>\n",
       "      <td>Related and informative</td>\n",
       "    </tr>\n",
       "  </tbody>\n",
       "</table>\n",
       "<p>1000 rows × 2 columns</p>\n",
       "</div>"
      ],
      "text/plain": [
       "                                            Tweet Text  \\\n",
       "0    RT @mariexplorer: Good morning #cebu #sea #par...   \n",
       "1    Where is Liloan Central Field and how do we ge...   \n",
       "2    Earthquake in Iloilo, Philippines! My head's a...   \n",
       "3    RT @LastQuake: NEW: Felt #earthquake M7.0 - Bo...   \n",
       "4    RT @NewEarthquake: 7.2 earthquake, 2km S of Nu...   \n",
       "..                                                 ...   \n",
       "995  Funds were low for #Western living so I moved ...   \n",
       "996  @TV5manila #BangonSugbohol #earthquakePH The #...   \n",
       "997  Get the latest #tech insights from @wilsonng o...   \n",
       "998  RT @pcdspo: Yesterday, the President was in Bo...   \n",
       "999  RT @bayeraUS: At least 82 dead, churches destr...   \n",
       "\n",
       "                   Informativeness  \n",
       "0                      Not related  \n",
       "1                      Not related  \n",
       "2    Related - but not informative  \n",
       "3          Related and informative  \n",
       "4          Related and informative  \n",
       "..                             ...  \n",
       "995                    Not related  \n",
       "996        Related and informative  \n",
       "997                    Not related  \n",
       "998        Related and informative  \n",
       "999        Related and informative  \n",
       "\n",
       "[1000 rows x 2 columns]"
      ]
     },
     "execution_count": 5,
     "metadata": {},
     "output_type": "execute_result"
    }
   ],
   "source": [
    "required_data = data[['Tweet Text','Informativeness']]\n",
    "required_data"
   ]
  },
  {
   "cell_type": "markdown",
   "metadata": {
    "pycharm": {
     "name": "#%% md\n"
    }
   },
   "source": [
    "### Cleaning the Tweets\n",
    "- Removing links\n",
    "- Removing RT\n",
    "- Removing mentions\n",
    "- Removing emojis"
   ]
  },
  {
   "cell_type": "markdown",
   "metadata": {
    "pycharm": {
     "name": "#%% md\n"
    }
   },
   "source": [
    "#### Removing Links"
   ]
  },
  {
   "cell_type": "code",
   "execution_count": 68,
   "metadata": {
    "collapsed": false,
    "jupyter": {
     "outputs_hidden": false
    },
    "pycharm": {
     "name": "#%%\n"
    }
   },
   "outputs": [
    {
     "data": {
      "text/plain": [
       "0      RT @mariexplorer: Good morning #cebu #sea #par...\n",
       "1      Where is Liloan Central Field and how do we ge...\n",
       "2      Earthquake in Iloilo, Philippines! My head's a...\n",
       "3      RT @LastQuake: NEW: Felt #earthquake M7.0 - Bo...\n",
       "4      RT @NewEarthquake: 7.2 earthquake, 2km S of Nu...\n",
       "                             ...                        \n",
       "995    Funds were low for #Western living so I moved ...\n",
       "996    @TV5manila #BangonSugbohol #earthquakePH The #...\n",
       "997    Get the latest #tech insights from @wilsonng o...\n",
       "998    RT @pcdspo: Yesterday, the President was in Bo...\n",
       "999    RT @bayeraUS: At least 82 dead, churches destr...\n",
       "Name: Tweet Text, Length: 1000, dtype: object"
      ]
     },
     "execution_count": 68,
     "metadata": {},
     "output_type": "execute_result"
    }
   ],
   "source": [
    "url_regex = \"http[s]?://(?:[a-zA-Z]|[0-9]|[$-_@.&+]|[!*\\(\\),]|(?:%[0-9a-fA-F][0-9a-fA-F]))+\"\n",
    "testing_dataframe = required_data.iloc[:,0]\n",
    "testing_dataframe_modified = testing_dataframe.str.replace(url_regex, \"buha\",regex=True)\n",
    "testing_dataframe_modified"
   ]
  },
  {
   "cell_type": "markdown",
   "metadata": {
    "pycharm": {
     "name": "#%% md\n"
    }
   },
   "source": [
    "#### Removing RT (Retweet) and mentions"
   ]
  },
  {
   "cell_type": "code",
   "execution_count": 79,
   "metadata": {
    "collapsed": false,
    "jupyter": {
     "outputs_hidden": false
    },
    "pycharm": {
     "name": "#%%\n"
    }
   },
   "outputs": [
    {
     "data": {
      "text/plain": [
       "0      buhaGood morning #cebu #sea #paradise #philipp...\n",
       "1      Where is Liloan Central Field and how do we ge...\n",
       "2      Earthquake in Iloilo, Philippines! My head's a...\n",
       "3      buhaFelt #earthquake M7.0 - Bohol, Philippines...\n",
       "4      buha7.2 earthquake, 2km S of Nueva Vida Sur, P...\n",
       "                             ...                        \n",
       "995    Funds were low for #Western living so I moved ...\n",
       "996    @TV5manila #BangonSugbohol #earthquakePH The #...\n",
       "997    Get the latest #tech insights from @wilsonng o...\n",
       "998                                buhahttp://t.co/jX8E…\n",
       "999    buhaAt least 82 dead, churches destroyed as 7....\n",
       "Name: Tweet Text, Length: 1000, dtype: object"
      ]
     },
     "execution_count": 79,
     "metadata": {},
     "output_type": "execute_result"
    }
   ],
   "source": [
    "rt_regex = \"RT\\s@[\\d\\D]*:\\s\"\n",
    "testing_dataframe = required_data.iloc[:,0]\n",
    "testing_dataframe_modified = testing_dataframe.str.replace(rt_regex, \"buha\",regex=True)\n",
    "testing_dataframe_modified"
   ]
  },
  {
   "cell_type": "markdown",
   "metadata": {
    "pycharm": {
     "name": "#%% md\n"
    }
   },
   "source": [
    "#### Removing emojis"
   ]
  },
  {
   "cell_type": "code",
   "execution_count": 30,
   "metadata": {
    "collapsed": false,
    "jupyter": {
     "outputs_hidden": false
    },
    "pycharm": {
     "name": "#%%\n"
    }
   },
   "outputs": [
    {
     "data": {
      "text/plain": [
       "'RT @SmileForDaniel: Let us all pray for the earthquake victims. Hope everyone is safe. #PrayForVisayas '"
      ]
     },
     "execution_count": 30,
     "metadata": {},
     "output_type": "execute_result"
    }
   ],
   "source": [
    "test_series = required_data.iloc[:,0]\n",
    "no_emoji_data = test_series.str.encode('ascii', 'ignore').str.decode('ascii')\n",
    "no_emoji_data[45]"
   ]
  }
 ],
 "metadata": {
  "kernelspec": {
   "display_name": "Python 3",
   "language": "python",
   "name": "python3"
  },
  "language_info": {
   "codemirror_mode": {
    "name": "ipython",
    "version": 3
   },
   "file_extension": ".py",
   "mimetype": "text/x-python",
   "name": "python",
   "nbconvert_exporter": "python",
   "pygments_lexer": "ipython3",
   "version": "3.8.8"
  }
 },
 "nbformat": 4,
 "nbformat_minor": 4
}
