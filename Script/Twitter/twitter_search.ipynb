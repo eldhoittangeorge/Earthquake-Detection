{
 "cells": [
  {
   "cell_type": "code",
   "execution_count": 1,
   "source": [
    "import requests\r\n",
    "import json\r\n",
    "import os\r\n",
    "from env_variable import bearer_token"
   ],
   "outputs": [],
   "metadata": {}
  },
  {
   "cell_type": "code",
   "execution_count": 2,
   "source": [
    "search_url = \"https://api.twitter.com/2/tweets/search/recent\"\r\n"
   ],
   "outputs": [],
   "metadata": {}
  },
  {
   "cell_type": "code",
   "execution_count": 5,
   "source": [
    "def bearer_oauth(r):\r\n",
    "\r\n",
    "    r.headers[\"Authorization\"] = f\"Bearer {bearer_token}\"\r\n",
    "    r.headers[\"User-Agent\"] = \"v2RecentSearchPython\"\r\n",
    "    return r\r\n",
    "\r\n",
    "def connect_to_endpoint(url, params):\r\n",
    "    response = requests.get(url, auth=bearer_oauth, params=params)\r\n",
    "    print(response.status_code)\r\n",
    "    if response.status_code != 200:\r\n",
    "        raise Exception(response.status_code, response.text)\r\n",
    "    return response.json()\r\n",
    "\r\n",
    "\r\n",
    "def main():\r\n",
    "    json_response = connect_to_endpoint(search_url, query_params)\r\n",
    "    print(json.dumps(json_response, indent=4, sort_keys=True))\r\n"
   ],
   "outputs": [],
   "metadata": {}
  },
  {
   "cell_type": "code",
   "execution_count": 4,
   "source": [
    "query_params = {'query': 'earthquake','start_time':'2021-08-31T00:00:00Z'}\r\n",
    "\r\n",
    "main()"
   ],
   "outputs": [
    {
     "output_type": "stream",
     "name": "stdout",
     "text": [
      "200\n",
      "{\n",
      "    \"data\": [\n",
      "        {\n",
      "            \"id\": \"1433110343849431040\",\n",
      "            \"text\": \"RT @QuakesInCA: 1.9 magnitude #earthquake. 2 mi from #LomaLinda, CA, United States https://t.co/d2rUgEMUIV\"\n",
      "        },\n",
      "        {\n",
      "            \"id\": \"1433110340393373696\",\n",
      "            \"text\": \"@shararehdrury the 2011 earthquake and tsunami. im sure there were others that i saw but thats the big breaking one that stuck with me. i watched a lot of weather channel as a kid, not much news.\"\n",
      "        },\n",
      "        {\n",
      "            \"id\": \"1433110302145527809\",\n",
      "            \"text\": \"RT @QuakesToday: 2.0 magnitude #earthquake. 7 km from P\\u0101hala, #HI, United States https://t.co/HdERMxBZ9N\"\n",
      "        },\n",
      "        {\n",
      "            \"id\": \"1433110297661693952\",\n",
      "            \"text\": \"RT @ramprasad_c: A little bird perched on a tree ruffled its feathers at the same time an earthquake started and the little bird believed i\\u2026\"\n",
      "        },\n",
      "        {\n",
      "            \"id\": \"1433110233627377668\",\n",
      "            \"text\": \"#\\u0634\\u0627\\u0647\\u062f \\u0627\\u0633\\u0648\\u0623 #\\u0627\\u0644\\u0643\\u0648\\u0627\\u0631\\u062b_\\u0627\\u0644\\u0637\\u0628\\u064a\\u0639\\u064a\\u0629 \\u0627\\u0644\\u062a\\u064a \\u062d\\u062f\\u062b\\u062a \\u0641\\u064a #\\u0627\\u0644\\u0639\\u0627\\u0644\\u0645 \\n#\\u0641\\u064a\\u0636\\u0627\\u0646 #\\u0632\\u0644\\u0632\\u0627\\u0644 #\\u062a\\u0633\\u0648\\u0646\\u0627\\u0645\\u064a #\\u0627\\u0639\\u0635\\u0627\\u0631 #\\u0639\\u0627\\u0635\\u0641\\u0629 #\\u0628\\u0631\\u0643\\u0627\\u0646 \\n\\u0645\\u0634\\u0627\\u0647\\u062f \\u0644\\u0627 \\u062a\\u0635\\u062f\\u0642 \\u0644\\u0648\\u0644\\u0627 \\u0627\\u0646 \\u0633\\u062c\\u0644\\u062a\\u0647\\u0627 \\u0627\\u0644\\u0643\\u0627\\u0645\\u064a\\u0631\\u0627\\u062a \\n#\\u0641\\u064a\\u062f\\u064a\\u0648 \\u0643\\u0627\\u0645\\u0644 \\u0641\\u064a \\u0627\\u0644\\u0631\\u0627\\u0628\\u0637 \\u0627\\u0644\\u062a\\u0627\\u0644\\u064a\\nhttps://t.co/RxxsL3Y8xf\\n#hurricane #earthquake #tsunami #volcano #tornado #LANDSLIDE\"\n",
      "        },\n",
      "        {\n",
      "            \"id\": \"1433110149825122310\",\n",
      "            \"text\": \"UNICEF Ambassador, @docallaghan4 vividly remembers his visit to #Haiti after the 2010 earthquake. \\n\\nNow, 11 years later, another earthquake has devastated Haiti. Families have lost everything in the disaster.\\n\\nPlease donate &amp; help deliver life-saving supplies.\"\n",
      "        },\n",
      "        {\n",
      "            \"id\": \"1433110005117505541\",\n",
      "            \"text\": \"RT @CICR_PAN: The needs of the affected Haitian people by the 7.2 earthquake of 14.08.21 are huge. The @IFRC_es is leading the #RCRC Moveme\\u2026\"\n",
      "        },\n",
      "        {\n",
      "            \"id\": \"1433109899228192769\",\n",
      "            \"text\": \"Over two weeks after a 7.2-magnitude earthquake rocked south-western #Haiti, many are still unable to meet their urgent need for food, water and life-saving health services. Your support is needed. Donate \\u27a1\\ufe0f https://t.co/FhRdcb2ZgL #HaitiEarthquake #HaitiEarthquake2021 https://t.co/a0w7QYplMt\"\n",
      "        },\n",
      "        {\n",
      "            \"id\": \"1433109856886538240\",\n",
      "            \"text\": \"RT @earthquakesLA: A 1.9 magnitude earthquake occurred 1.86mi ENE of Loma Linda, CA. Details: https://t.co/Yvrz9IhMq4 Map: https://t.co/d5v\\u2026\"\n",
      "        },\n",
      "        {\n",
      "            \"id\": \"1433109855267590144\",\n",
      "            \"text\": \"@TeaPainUSA They are all shaking so bad it\\u2019s like an earthquake happening!\"\n",
      "        }\n",
      "    ],\n",
      "    \"meta\": {\n",
      "        \"newest_id\": \"1433110343849431040\",\n",
      "        \"next_token\": \"b26v89c19zqg8o3fpdp7i0sis1jonmr322lcaazhuvywt\",\n",
      "        \"oldest_id\": \"1433109855267590144\",\n",
      "        \"result_count\": 10\n",
      "    }\n",
      "}\n"
     ]
    }
   ],
   "metadata": {}
  },
  {
   "cell_type": "code",
   "execution_count": null,
   "source": [],
   "outputs": [],
   "metadata": {}
  }
 ],
 "metadata": {
  "orig_nbformat": 4,
  "language_info": {
   "name": "python",
   "version": "3.8.11",
   "mimetype": "text/x-python",
   "codemirror_mode": {
    "name": "ipython",
    "version": 3
   },
   "pygments_lexer": "ipython3",
   "nbconvert_exporter": "python",
   "file_extension": ".py"
  },
  "kernelspec": {
   "name": "python3",
   "display_name": "Python 3.8.11 64-bit ('ds': conda)"
  },
  "interpreter": {
   "hash": "b5d4274ebb9180454c804b5ee419348493c013ff5d68b712df2e1ca9accf6ce7"
  }
 },
 "nbformat": 4,
 "nbformat_minor": 2
}