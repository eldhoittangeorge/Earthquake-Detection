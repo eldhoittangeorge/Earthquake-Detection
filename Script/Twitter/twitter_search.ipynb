{
 "cells": [
  {
   "cell_type": "code",
   "execution_count": 12,
   "source": [
    "import requests\r\n",
    "import json\r\n",
    "import os\r\n",
    "from env_variable import bearer_token"
   ],
   "outputs": [],
   "metadata": {}
  },
  {
   "cell_type": "code",
   "execution_count": 21,
   "source": [
    "search_url = \"https://api.twitter.com/2/tweets/search/recent\"\r\n",
    "query_params = {'query': 'earthquake','tweet.fields': 'id'}\r\n"
   ],
   "outputs": [],
   "metadata": {}
  },
  {
   "cell_type": "code",
   "execution_count": 5,
   "source": [
    "def bearer_oauth(r):\r\n",
    "    \"\"\"\r\n",
    "    Method required by bearer token authentication.\r\n",
    "    \"\"\"\r\n",
    "\r\n",
    "    r.headers[\"Authorization\"] = f\"Bearer {bearer_token}\"\r\n",
    "    r.headers[\"User-Agent\"] = \"v2RecentSearchPython\"\r\n",
    "    return r\r\n",
    "\r\n",
    "def connect_to_endpoint(url, params):\r\n",
    "    response = requests.get(url, auth=bearer_oauth, params=params)\r\n",
    "    print(response.status_code)\r\n",
    "    if response.status_code != 200:\r\n",
    "        raise Exception(response.status_code, response.text)\r\n",
    "    return response.json()\r\n",
    "\r\n",
    "\r\n",
    "def main():\r\n",
    "    json_response = connect_to_endpoint(search_url, query_params)\r\n",
    "    print(json.dumps(json_response, indent=4, sort_keys=True))\r\n"
   ],
   "outputs": [],
   "metadata": {}
  },
  {
   "cell_type": "code",
   "execution_count": 22,
   "source": [
    "\r\n",
    "main()"
   ],
   "outputs": [
    {
     "output_type": "stream",
     "name": "stdout",
     "text": [
      "200\n",
      "{\n",
      "    \"data\": [\n",
      "        {\n",
      "            \"id\": \"1432439956400578562\",\n",
      "            \"text\": \"RT @Southcom: Earthquake relief in #Haiti: \\n\\nA Soldier with the @PRNationalGuard loads boxes of medical equipment into the back of a UH-60\\u2026\"\n",
      "        },\n",
      "        {\n",
      "            \"id\": \"1432439938922913792\",\n",
      "            \"text\": \"RT @earthquakejapan: \\uff089\\u670810\\u65e5\\uff09\\u65e5\\u672c\\u3067\\u306f7.0\\u306e\\u5730\\u9707\\u304c\\u767a\\u751f\\u3059\\u308b\\u53ef\\u80fd\\u6027\\u304c\\u3042\\u308a\\u307e\\u3059 - https://t.co/MSA4iPozgl https://t.co/dhjAvrGahg\"\n",
      "        },\n",
      "        {\n",
      "            \"id\": \"1432439935366205442\",\n",
      "            \"text\": \"RT @BuzzFeedNews: UN peacekeepers were sent to Haiti to help a country in crisis. But some of them exploited local women and fathered child\\u2026\"\n",
      "        },\n",
      "        {\n",
      "            \"id\": \"1432439878235553792\",\n",
      "            \"text\": \"RT @geonet: M4.1 quake causing light shaking near Te Araroa https://t.co/gz3tVZZ0N7\"\n",
      "        },\n",
      "        {\n",
      "            \"id\": \"1432439829393027081\",\n",
      "            \"text\": \"RT @papahetfield81: Metallica Donates $50,000 To Haiti Earthquake Relief Fund \\n\\nRESPECT\\ud83e\\udd18\\nhttps://t.co/37A8iShFyw\"\n",
      "        },\n",
      "        {\n",
      "            \"id\": \"1432439826268270598\",\n",
      "            \"text\": \"@tunebubble Sad , traumatized, like there in a earthquake and their brain is melting \\u2026. Or they cry 90% always say wow \\u2026 amazing\"\n",
      "        },\n",
      "        {\n",
      "            \"id\": \"1432439807653945351\",\n",
      "            \"text\": \"RT @AlbertSamaha: UN peacekeepers fathered\\u2014then abandoned\\u2014dozens of children while stationed in Haiti after the 2010 earthquake. Now, those\\u2026\"\n",
      "        },\n",
      "        {\n",
      "            \"id\": \"1432439800879935491\",\n",
      "            \"text\": \"#EarthquakePH #EarthquakeIloilo\\nEarthquake Information No.1\\nDate and Time: 31 Aug 2021 - 04:18 AM\\nMagnitude = 2.5\\nDepth = 015 kilometers\\nLocation = 10.42N, 122.25E - 022 km S 32\\u00b0 E of San Joaquin (Iloilo)\\n\\nhttps://t.co/rhR9UrbNSF https://t.co/Km5i8i9741\"\n",
      "        },\n",
      "        {\n",
      "            \"id\": \"1432439784832528386\",\n",
      "            \"text\": \"RT @qDandyp: q\\u00a7\\u3002\\u30fb_\\u30fb)\\u00a7/ \\n[\\u9707\\u6e90\\u5730] \\u8328\\u57ce\\u770c\\u5357\\u90e8 [\\u6700\\u5927\\u9707\\u5ea6] \\u9707\\u5ea61 (2021\\u5e748\\u670830\\u65e5 20\\u664228\\u5206\\u9803\\u767a\\u751f) - goo\\u5929\\u6c17\\n https://t.co/9ZfWXEKpL0\\n#jisin #saigai #\\u5730\\u9707 https://t.co/QOxU\\u2026\"\n",
      "        },\n",
      "        {\n",
      "            \"id\": \"1432439781649260545\",\n",
      "            \"text\": \"#Earthquake M3.9 New Zealand 2mins ago 30 Aug 20:25 UTC - report/info: \\nhttps://t.co/ChvsPWqhlu\"\n",
      "        }\n",
      "    ],\n",
      "    \"meta\": {\n",
      "        \"newest_id\": \"1432439956400578562\",\n",
      "        \"next_token\": \"b26v89c19zqg8o3fpdp731lno9cdpsr9vo1cfa1r92dfh\",\n",
      "        \"oldest_id\": \"1432439781649260545\",\n",
      "        \"result_count\": 10\n",
      "    }\n",
      "}\n"
     ]
    }
   ],
   "metadata": {}
  },
  {
   "cell_type": "code",
   "execution_count": null,
   "source": [],
   "outputs": [],
   "metadata": {}
  }
 ],
 "metadata": {
  "orig_nbformat": 4,
  "language_info": {
   "name": "python",
   "version": "3.8.11",
   "mimetype": "text/x-python",
   "codemirror_mode": {
    "name": "ipython",
    "version": 3
   },
   "pygments_lexer": "ipython3",
   "nbconvert_exporter": "python",
   "file_extension": ".py"
  },
  "kernelspec": {
   "name": "python3",
   "display_name": "Python 3.8.11 64-bit ('ds': conda)"
  },
  "interpreter": {
   "hash": "b5d4274ebb9180454c804b5ee419348493c013ff5d68b712df2e1ca9accf6ce7"
  }
 },
 "nbformat": 4,
 "nbformat_minor": 2
}