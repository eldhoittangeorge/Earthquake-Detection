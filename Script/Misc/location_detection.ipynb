{
 "cells": [
  {
   "cell_type": "code",
   "execution_count": 2,
   "source": [
    "import spacy\r\n",
    "from spacy import displacy"
   ],
   "outputs": [],
   "metadata": {}
  },
  {
   "cell_type": "code",
   "execution_count": 3,
   "source": [
    "nlp = spacy.load('en_core_web_sm')"
   ],
   "outputs": [],
   "metadata": {}
  },
  {
   "cell_type": "code",
   "execution_count": 27,
   "source": [
    "def get_location(tweet = None):\r\n",
    "    if(not tweet):\r\n",
    "        return \r\n",
    "    doc = nlp(tweet)\r\n",
    "    if(doc.ents):\r\n",
    "        # print(doc.ents)\r\n",
    "        for ent in doc.ents:\r\n",
    "            if(ent.label_ == \"GPE\"):\r\n",
    "                print(ent.text)\r\n",
    "            else:\r\n",
    "                print(\"No location exist\")\r\n",
    "    else:\r\n",
    "        print(\"Doesn't exist\")"
   ],
   "outputs": [],
   "metadata": {}
  },
  {
   "cell_type": "code",
   "execution_count": 28,
   "source": [
    "get_location(\"Earthquake in Texas\")"
   ],
   "outputs": [
    {
     "output_type": "stream",
     "name": "stdout",
     "text": [
      "Texas\n"
     ]
    }
   ],
   "metadata": {}
  },
  {
   "cell_type": "code",
   "execution_count": null,
   "source": [],
   "outputs": [],
   "metadata": {}
  }
 ],
 "metadata": {
  "orig_nbformat": 4,
  "language_info": {
   "name": "python",
   "version": "3.8.11",
   "mimetype": "text/x-python",
   "codemirror_mode": {
    "name": "ipython",
    "version": 3
   },
   "pygments_lexer": "ipython3",
   "nbconvert_exporter": "python",
   "file_extension": ".py"
  },
  "kernelspec": {
   "name": "python3",
   "display_name": "Python 3.8.11 64-bit ('ds': conda)"
  },
  "interpreter": {
   "hash": "b5d4274ebb9180454c804b5ee419348493c013ff5d68b712df2e1ca9accf6ce7"
  }
 },
 "nbformat": 4,
 "nbformat_minor": 2
}