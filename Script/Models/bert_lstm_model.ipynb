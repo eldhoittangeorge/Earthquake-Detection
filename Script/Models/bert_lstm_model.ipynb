{
 "cells": [
  {
   "cell_type": "code",
   "execution_count": 1,
   "source": [
    "import pandas as pd\r\n",
    "import tensorflow as tf\r\n",
    "import numpy as np\r\n",
    "import tensorflow_hub as hub\r\n",
    "import tensorflow_text as text\r\n",
    "from sklearn.model_selection import train_test_split\r\n",
    "from sklearn.metrics.pairwise import cosine_similarity \r\n",
    "from tensorflow import keras\r\n",
    "from tensorflow.keras.layers import Bidirectional,Dense,GlobalMaxPooling1D,LSTM,Embedding\r\n",
    "from tensorflow.compat.v1.keras.layers import CuDNNLSTM"
   ],
   "outputs": [],
   "metadata": {}
  },
  {
   "cell_type": "code",
   "execution_count": 2,
   "source": [
    "data = pd.read_csv(\"../../Data/clean_data.csv\")"
   ],
   "outputs": [],
   "metadata": {}
  },
  {
   "cell_type": "code",
   "execution_count": 3,
   "source": [
    "bert_preproccessor = hub.KerasLayer(\"https://tfhub.dev/tensorflow/bert_en_uncased_preprocess/3\")\r\n",
    "# Using a smaller model replace it with a bigger model\r\n",
    "bert_model = hub.KerasLayer(\"https://tfhub.dev/tensorflow/small_bert/bert_en_uncased_L-2_H-128_A-2/2\")"
   ],
   "outputs": [],
   "metadata": {}
  },
  {
   "cell_type": "code",
   "execution_count": 4,
   "source": [
    "def create_embedding(sentence):\r\n",
    "    preroccessed_sentence = bert_preproccessor(sentence)\r\n",
    "    bert_embedding = bert_model(preroccessed_sentence)\r\n",
    "    return bert_embedding[\"sequence_output\"]\r\n"
   ],
   "outputs": [],
   "metadata": {}
  },
  {
   "cell_type": "code",
   "execution_count": 5,
   "source": [
    "X_train, X_test, y_train, y_test = train_test_split(data[\"Tweet Text\"],data[\"Informativeness\"])"
   ],
   "outputs": [],
   "metadata": {}
  },
  {
   "cell_type": "code",
   "execution_count": 9,
   "source": [
    "# Defining the model\r\n",
    "\r\n",
    "input = keras.Input(shape=(),dtype=\"string\",name=\"input\")\r\n",
    "\r\n",
    "layer = Bidirectional(CuDNNLSTM(128,return_sequences=True))(create_embedding(input))\r\n",
    "layer = Bidirectional(CuDNNLSTM(128,return_sequences=True))(layer)\r\n",
    "layer = GlobalMaxPooling1D()(layer)\r\n",
    "layer = Dense(512, activation=\"relu\")(layer)\r\n",
    "layer = Dense(1, activation=\"sigmoid\")(layer)\r\n",
    "model = keras.Model(inputs=[input],outputs=layer)\r\n",
    "\r\n",
    "\r\n",
    "model.compile(loss=\"binary_crossentropy\",optimizer=\"adam\",metrics=[\"accuracy\"])\r\n",
    "model.fit(X_train,y_train,epochs=5)\r\n",
    "model.summary()"
   ],
   "outputs": [
    {
     "output_type": "stream",
     "name": "stdout",
     "text": [
      "Epoch 1/5\n",
      "24/24 [==============================] - 6s 102ms/step - loss: 0.4045 - accuracy: 0.8187\n",
      "Epoch 2/5\n",
      "24/24 [==============================] - 2s 100ms/step - loss: 0.2775 - accuracy: 0.8867\n",
      "Epoch 3/5\n",
      "24/24 [==============================] - 2s 102ms/step - loss: 0.2177 - accuracy: 0.8987\n",
      "Epoch 4/5\n",
      "24/24 [==============================] - 2s 101ms/step - loss: 0.1853 - accuracy: 0.9280\n",
      "Epoch 5/5\n",
      "24/24 [==============================] - 2s 101ms/step - loss: 0.1843 - accuracy: 0.9227\n",
      "Model: \"model_3\"\n",
      "__________________________________________________________________________________________________\n",
      "Layer (type)                    Output Shape         Param #     Connected to                     \n",
      "==================================================================================================\n",
      "input (InputLayer)              [(None,)]            0                                            \n",
      "__________________________________________________________________________________________________\n",
      "keras_layer (KerasLayer)        {'input_mask': (None 0           input[0][0]                      \n",
      "__________________________________________________________________________________________________\n",
      "keras_layer_1 (KerasLayer)      {'default': (None, 1 4385921     keras_layer[3][0]                \n",
      "                                                                 keras_layer[3][1]                \n",
      "                                                                 keras_layer[3][2]                \n",
      "__________________________________________________________________________________________________\n",
      "bidirectional_6 (Bidirectional) (None, 128, 256)     264192      keras_layer_1[3][4]              \n",
      "__________________________________________________________________________________________________\n",
      "bidirectional_7 (Bidirectional) (None, 128, 256)     395264      bidirectional_6[0][0]            \n",
      "__________________________________________________________________________________________________\n",
      "global_max_pooling1d_3 (GlobalM (None, 256)          0           bidirectional_7[0][0]            \n",
      "__________________________________________________________________________________________________\n",
      "dense_6 (Dense)                 (None, 512)          131584      global_max_pooling1d_3[0][0]     \n",
      "__________________________________________________________________________________________________\n",
      "dense_7 (Dense)                 (None, 1)            513         dense_6[0][0]                    \n",
      "==================================================================================================\n",
      "Total params: 5,177,474\n",
      "Trainable params: 791,553\n",
      "Non-trainable params: 4,385,921\n",
      "__________________________________________________________________________________________________\n"
     ]
    }
   ],
   "metadata": {}
  },
  {
   "cell_type": "code",
   "execution_count": 11,
   "source": [
    "model.evaluate(X_test,y_test,verbose=2)"
   ],
   "outputs": [
    {
     "output_type": "stream",
     "name": "stdout",
     "text": [
      "8/8 - 2s - loss: 0.2735 - accuracy: 0.9120\n"
     ]
    },
    {
     "output_type": "execute_result",
     "data": {
      "text/plain": [
       "[0.2734609544277191, 0.9120000004768372]"
      ]
     },
     "metadata": {},
     "execution_count": 11
    }
   ],
   "metadata": {}
  }
 ],
 "metadata": {
  "orig_nbformat": 4,
  "language_info": {
   "name": "python",
   "version": "3.8.11",
   "mimetype": "text/x-python",
   "codemirror_mode": {
    "name": "ipython",
    "version": 3
   },
   "pygments_lexer": "ipython3",
   "nbconvert_exporter": "python",
   "file_extension": ".py"
  },
  "kernelspec": {
   "name": "python3",
   "display_name": "Python 3.8.11 64-bit ('ds': conda)"
  },
  "interpreter": {
   "hash": "b5d4274ebb9180454c804b5ee419348493c013ff5d68b712df2e1ca9accf6ce7"
  }
 },
 "nbformat": 4,
 "nbformat_minor": 2
}