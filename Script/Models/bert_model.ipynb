{
 "cells": [
  {
   "cell_type": "code",
   "execution_count": 31,
   "source": [
    "import pandas as pd\r\n",
    "from sklearn.model_selection import train_test_split\r\n",
    "from sklearn.metrics.pairwise import cosine_similarity\r\n",
    "import tensorflow as tf\r\n",
    "import tensorflow_hub as hub\r\n",
    "import numpy as np\r\n",
    "import tensorflow_text as text\r\n",
    "from tensorflow.keras import layers\r\n",
    "from sklearn.metrics import precision_score,recall_score"
   ],
   "outputs": [],
   "metadata": {}
  },
  {
   "cell_type": "code",
   "execution_count": 9,
   "source": [
    "data = pd.read_csv(\"../../Data/clean_data.csv\")"
   ],
   "outputs": [],
   "metadata": {}
  },
  {
   "cell_type": "code",
   "execution_count": 10,
   "source": [
    "X_train, X_test, y_train, y_test = train_test_split(data[\"Tweet Text\"],data[\"Informativeness\"],\r\n",
    "test_size=.2,random_state=47,stratify=data[\"Informativeness\"])"
   ],
   "outputs": [],
   "metadata": {}
  },
  {
   "cell_type": "code",
   "execution_count": 15,
   "source": [
    "bert_preproccessor = hub.KerasLayer(\"https://tfhub.dev/tensorflow/bert_en_uncased_preprocess/3\")\r\n",
    "bert_model = hub.KerasLayer(\"https://tfhub.dev/tensorflow/bert_en_uncased_L-12_H-768_A-12/4\")"
   ],
   "outputs": [],
   "metadata": {}
  },
  {
   "cell_type": "code",
   "execution_count": 16,
   "source": [
    "def get_sentence_embedding(sentence):\r\n",
    "    preprocessed_sentence = bert_preproccessor(sentence)\r\n",
    "    bert_embedding = bert_model(preprocessed_sentence)\r\n",
    "    return bert_embedding[\"pooled_output\"]"
   ],
   "outputs": [],
   "metadata": {}
  },
  {
   "cell_type": "markdown",
   "source": [
    "### Building a sequential model"
   ],
   "metadata": {}
  },
  {
   "cell_type": "code",
   "execution_count": 17,
   "source": [
    "tf.config.list_physical_devices()"
   ],
   "outputs": [
    {
     "output_type": "execute_result",
     "data": {
      "text/plain": [
       "[PhysicalDevice(name='/physical_device:CPU:0', device_type='CPU'),\n",
       " PhysicalDevice(name='/physical_device:GPU:0', device_type='GPU')]"
      ]
     },
     "metadata": {},
     "execution_count": 17
    }
   ],
   "metadata": {}
  },
  {
   "cell_type": "code",
   "execution_count": 18,
   "source": [
    "text_input = layers.Input(shape=(),dtype=tf.string,name='tweet')\r\n",
    "\r\n",
    "layer = layers.Dense(512, activation=\"relu\", name=\"hidden\")(get_sentence_embedding(text_input)) \r\n",
    "layer = layers.Dense(256, activation=\"relu\", name=\"hidden\")(get_sentence_embedding(text_input)) \r\n",
    "layer = layers.Dense(1, activation=\"sigmoid\", name=\"output\")(layer)\r\n",
    "\r\n",
    "model = tf.keras.Model(inputs=[text_input], outputs=[layer])\r\n",
    "\r\n",
    "model.compile(optimizer=\"adam\",loss=\"binary_crossentropy\",metrics=[\"accuracy\"])\r\n",
    "model.fit(X_train, y_train,epochs=5)\r\n"
   ],
   "outputs": [
    {
     "output_type": "stream",
     "name": "stdout",
     "text": [
      "Epoch 1/5\n",
      "25/25 [==============================] - 19s 348ms/step - loss: 0.6121 - accuracy: 0.6562\n",
      "Epoch 2/5\n",
      "25/25 [==============================] - 9s 344ms/step - loss: 0.4837 - accuracy: 0.7663\n",
      "Epoch 3/5\n",
      "25/25 [==============================] - 9s 346ms/step - loss: 0.3872 - accuracy: 0.8438\n",
      "Epoch 4/5\n",
      "25/25 [==============================] - 9s 346ms/step - loss: 0.3901 - accuracy: 0.8300\n",
      "Epoch 5/5\n",
      "25/25 [==============================] - 9s 346ms/step - loss: 0.3781 - accuracy: 0.8413\n"
     ]
    },
    {
     "output_type": "execute_result",
     "data": {
      "text/plain": [
       "<keras.callbacks.History at 0x1a37e800e20>"
      ]
     },
     "metadata": {},
     "execution_count": 18
    }
   ],
   "metadata": {}
  },
  {
   "cell_type": "code",
   "execution_count": 26,
   "source": [
    "model.evaluate(X_test,y_test)"
   ],
   "outputs": [
    {
     "output_type": "stream",
     "name": "stdout",
     "text": [
      "7/7 [==============================] - 2s 344ms/step - loss: 0.3791 - accuracy: 0.8400\n"
     ]
    }
   ],
   "metadata": {}
  },
  {
   "cell_type": "code",
   "execution_count": 27,
   "source": [
    "prediction = model.predict(X_test)\r\n",
    "class_prediction = np.apply_along_axis(convert_to_class,1,prediction)\r\n",
    "\r\n",
    "def convert_to_class(x):\r\n",
    "    if(x > .5):\r\n",
    "        return 1\r\n",
    "    else:\r\n",
    "        return 0"
   ],
   "outputs": [],
   "metadata": {}
  },
  {
   "cell_type": "code",
   "execution_count": 35,
   "source": [
    "# Precision score\r\n",
    "precision_score(y_test,class_prediction)"
   ],
   "outputs": [
    {
     "output_type": "execute_result",
     "data": {
      "text/plain": [
       "0.8117647058823529"
      ]
     },
     "metadata": {},
     "execution_count": 35
    }
   ],
   "metadata": {}
  },
  {
   "cell_type": "code",
   "execution_count": 36,
   "source": [
    "# Recall score\r\n",
    "recall_score(y_test,class_prediction)"
   ],
   "outputs": [
    {
     "output_type": "execute_result",
     "data": {
      "text/plain": [
       "0.8117647058823529"
      ]
     },
     "metadata": {},
     "execution_count": 36
    }
   ],
   "metadata": {}
  }
 ],
 "metadata": {
  "orig_nbformat": 4,
  "language_info": {
   "name": "python",
   "version": "3.8.11",
   "mimetype": "text/x-python",
   "codemirror_mode": {
    "name": "ipython",
    "version": 3
   },
   "pygments_lexer": "ipython3",
   "nbconvert_exporter": "python",
   "file_extension": ".py"
  },
  "kernelspec": {
   "name": "python3",
   "display_name": "Python 3.8.11 64-bit ('ds': conda)"
  },
  "interpreter": {
   "hash": "b5d4274ebb9180454c804b5ee419348493c013ff5d68b712df2e1ca9accf6ce7"
  }
 },
 "nbformat": 4,
 "nbformat_minor": 2
}