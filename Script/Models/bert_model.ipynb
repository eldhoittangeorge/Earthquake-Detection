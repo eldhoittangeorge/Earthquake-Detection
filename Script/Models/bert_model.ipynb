{
 "cells": [
  {
   "cell_type": "code",
   "execution_count": 1,
   "source": [
    "import pandas as pd\r\n",
    "from sklearn.model_selection import train_test_split\r\n",
    "from sklearn.metrics.pairwise import cosine_similarity\r\n",
    "import tensorflow as tf\r\n",
    "import tensorflow_hub as hub\r\n",
    "import tensorflow_text as text\r\n",
    "from tensorflow.keras import layers"
   ],
   "outputs": [],
   "metadata": {}
  },
  {
   "cell_type": "code",
   "execution_count": 2,
   "source": [
    "data = pd.read_csv(\"../../Data/clean_data.csv\")"
   ],
   "outputs": [],
   "metadata": {}
  },
  {
   "cell_type": "code",
   "execution_count": 3,
   "source": [
    "X_train, X_test, y_train, y_test = train_test_split(data[\"Tweet Text\"],data[\"Informativeness\"],\r\n",
    "test_size=.2,random_state=47,stratify=data[\"Informativeness\"])"
   ],
   "outputs": [],
   "metadata": {}
  },
  {
   "cell_type": "code",
   "execution_count": 4,
   "source": [
    "bert_preproccessor = hub.KerasLayer(\"https://tfhub.dev/tensorflow/bert_en_uncased_preprocess/3\")\r\n",
    "bert_model = hub.KerasLayer(\"https://tfhub.dev/tensorflow/bert_en_uncased_L-12_H-768_A-12/4\")"
   ],
   "outputs": [],
   "metadata": {}
  },
  {
   "cell_type": "code",
   "execution_count": 5,
   "source": [
    "def get_sentence_embedding(sentence):\r\n",
    "    preprocessed_sentence = bert_preproccessor(sentence)\r\n",
    "    bert_embedding = bert_model(preprocessed_sentence)\r\n",
    "    return bert_embedding[\"pooled_output\"]"
   ],
   "outputs": [],
   "metadata": {}
  },
  {
   "cell_type": "markdown",
   "source": [
    "### Building a sequential model"
   ],
   "metadata": {}
  },
  {
   "cell_type": "code",
   "execution_count": 6,
   "source": [
    "tf.config.list_physical_devices()"
   ],
   "outputs": [
    {
     "output_type": "execute_result",
     "data": {
      "text/plain": [
       "[PhysicalDevice(name='/physical_device:CPU:0', device_type='CPU'),\n",
       " PhysicalDevice(name='/physical_device:GPU:0', device_type='GPU')]"
      ]
     },
     "metadata": {},
     "execution_count": 6
    }
   ],
   "metadata": {}
  },
  {
   "cell_type": "code",
   "execution_count": 8,
   "source": [
    "text_input = layers.Input(shape=(),dtype=tf.string,name='tweet')\r\n",
    "\r\n",
    "layer = layers.Dense(512, activation=\"relu\", name=\"hidden\")(get_sentence_embedding(text_input)) \r\n",
    "layer = layers.Dense(256, activation=\"relu\", name=\"hidden\")(get_sentence_embedding(text_input)) \r\n",
    "layer = layers.Dense(1, activation=\"sigmoid\", name=\"output\")(layer)\r\n",
    "\r\n",
    "model = tf.keras.Model(inputs=[text_input], outputs=[layer])\r\n",
    "\r\n",
    "model.compile(optimizer=\"adam\",loss=\"binary_crossentropy\",metrics=[\"accuracy\"])\r\n",
    "model.fit(X_train, y_train,epochs=5)\r\n"
   ],
   "outputs": [
    {
     "output_type": "stream",
     "name": "stdout",
     "text": [
      "Epoch 1/5\n",
      "25/25 [==============================] - 12s 389ms/step - loss: 0.6427 - accuracy: 0.6463\n",
      "Epoch 2/5\n",
      "25/25 [==============================] - 10s 389ms/step - loss: 0.4536 - accuracy: 0.8225\n",
      "Epoch 3/5\n",
      "25/25 [==============================] - 10s 389ms/step - loss: 0.4257 - accuracy: 0.8062\n",
      "Epoch 4/5\n",
      "25/25 [==============================] - 10s 389ms/step - loss: 0.3807 - accuracy: 0.8325\n",
      "Epoch 5/5\n",
      "25/25 [==============================] - 10s 390ms/step - loss: 0.3813 - accuracy: 0.8450\n"
     ]
    },
    {
     "output_type": "execute_result",
     "data": {
      "text/plain": [
       "<keras.callbacks.History at 0x1f851c98f70>"
      ]
     },
     "metadata": {},
     "execution_count": 8
    }
   ],
   "metadata": {}
  },
  {
   "cell_type": "code",
   "execution_count": 9,
   "source": [
    "model.evaluate(X_test,y_test)"
   ],
   "outputs": [
    {
     "output_type": "stream",
     "name": "stdout",
     "text": [
      "7/7 [==============================] - 3s 343ms/step - loss: 0.4310 - accuracy: 0.8150\n"
     ]
    },
    {
     "output_type": "execute_result",
     "data": {
      "text/plain": [
       "[0.4310216009616852, 0.8149999976158142]"
      ]
     },
     "metadata": {},
     "execution_count": 9
    }
   ],
   "metadata": {}
  },
  {
   "cell_type": "code",
   "execution_count": 13,
   "source": [
    "model.metrics_names"
   ],
   "outputs": [
    {
     "output_type": "execute_result",
     "data": {
      "text/plain": [
       "['loss', 'accuracy']"
      ]
     },
     "metadata": {},
     "execution_count": 13
    }
   ],
   "metadata": {}
  }
 ],
 "metadata": {
  "orig_nbformat": 4,
  "language_info": {
   "name": "python",
   "version": "3.8.11",
   "mimetype": "text/x-python",
   "codemirror_mode": {
    "name": "ipython",
    "version": 3
   },
   "pygments_lexer": "ipython3",
   "nbconvert_exporter": "python",
   "file_extension": ".py"
  },
  "kernelspec": {
   "name": "python3",
   "display_name": "Python 3.8.11 64-bit ('ds': conda)"
  },
  "interpreter": {
   "hash": "b5d4274ebb9180454c804b5ee419348493c013ff5d68b712df2e1ca9accf6ce7"
  }
 },
 "nbformat": 4,
 "nbformat_minor": 2
}