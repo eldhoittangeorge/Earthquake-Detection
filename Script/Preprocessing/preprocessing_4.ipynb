{
 "cells": [
  {
   "cell_type": "code",
   "execution_count": 51,
   "source": [
    "import pandas as pd\r\n",
    "import nltk\r\n",
    "import re\r\n",
    "import string\r\n",
    "from nltk.corpus import stopwords\r\n",
    "import preprocessor as p\r\n",
    "import wordninja"
   ],
   "outputs": [],
   "metadata": {}
  },
  {
   "cell_type": "code",
   "execution_count": 33,
   "source": [
    "data = pd.read_csv('../../Data/new_data.csv',index_col=False)"
   ],
   "outputs": [],
   "metadata": {}
  },
  {
   "cell_type": "code",
   "execution_count": 34,
   "source": [
    "data.head()"
   ],
   "outputs": [
    {
     "output_type": "execute_result",
     "data": {
      "text/plain": [
       "                                          Tweet Text  Informativeness\n",
       "0  RT @mariexplorer: Good morning #cebu #sea #par...                0\n",
       "1  Where is Liloan Central Field and how do we ge...                0\n",
       "2  Earthquake in Iloilo, Philippines! My head's a...                0\n",
       "3  RT @LastQuake: NEW: Felt #earthquake M7.0 - Bo...                1\n",
       "4  RT @NewEarthquake: 7.2 earthquake, 2km S of Nu...                1"
      ],
      "text/html": [
       "<div>\n",
       "<style scoped>\n",
       "    .dataframe tbody tr th:only-of-type {\n",
       "        vertical-align: middle;\n",
       "    }\n",
       "\n",
       "    .dataframe tbody tr th {\n",
       "        vertical-align: top;\n",
       "    }\n",
       "\n",
       "    .dataframe thead th {\n",
       "        text-align: right;\n",
       "    }\n",
       "</style>\n",
       "<table border=\"1\" class=\"dataframe\">\n",
       "  <thead>\n",
       "    <tr style=\"text-align: right;\">\n",
       "      <th></th>\n",
       "      <th>Tweet Text</th>\n",
       "      <th>Informativeness</th>\n",
       "    </tr>\n",
       "  </thead>\n",
       "  <tbody>\n",
       "    <tr>\n",
       "      <th>0</th>\n",
       "      <td>RT @mariexplorer: Good morning #cebu #sea #par...</td>\n",
       "      <td>0</td>\n",
       "    </tr>\n",
       "    <tr>\n",
       "      <th>1</th>\n",
       "      <td>Where is Liloan Central Field and how do we ge...</td>\n",
       "      <td>0</td>\n",
       "    </tr>\n",
       "    <tr>\n",
       "      <th>2</th>\n",
       "      <td>Earthquake in Iloilo, Philippines! My head's a...</td>\n",
       "      <td>0</td>\n",
       "    </tr>\n",
       "    <tr>\n",
       "      <th>3</th>\n",
       "      <td>RT @LastQuake: NEW: Felt #earthquake M7.0 - Bo...</td>\n",
       "      <td>1</td>\n",
       "    </tr>\n",
       "    <tr>\n",
       "      <th>4</th>\n",
       "      <td>RT @NewEarthquake: 7.2 earthquake, 2km S of Nu...</td>\n",
       "      <td>1</td>\n",
       "    </tr>\n",
       "  </tbody>\n",
       "</table>\n",
       "</div>"
      ]
     },
     "metadata": {},
     "execution_count": 34
    }
   ],
   "metadata": {}
  },
  {
   "cell_type": "code",
   "execution_count": 11,
   "source": [
    "def to_lower(text):\r\n",
    "    return text.lower()"
   ],
   "outputs": [],
   "metadata": {}
  },
  {
   "cell_type": "code",
   "execution_count": 15,
   "source": [
    "def remove_punctuations(text):\r\n",
    "    return re.sub('[%s]' % re.escape(string.punctuation),'',text)\r\n"
   ],
   "outputs": [
    {
     "output_type": "execute_result",
     "data": {
      "text/plain": [
       "'Earthquake in Iloilo Philippines My heads aching'"
      ]
     },
     "metadata": {},
     "execution_count": 15
    }
   ],
   "metadata": {}
  },
  {
   "cell_type": "code",
   "execution_count": 19,
   "source": [
    "stop_words = set(stopwords.words('english'))\r\n",
    "stop_words.add('http')\r\n",
    "def remove_stopwords(text):\r\n",
    "    return \" \".join([word for word in str(text).split() if word not in stop_words])\r\n"
   ],
   "outputs": [],
   "metadata": {}
  },
  {
   "cell_type": "code",
   "execution_count": 79,
   "source": [
    "def rephrase_text(text):\r\n",
    "    p.set_options(p.OPT.URL,p.OPT.MENTION)\r\n",
    "    parsed_text = p.tokenize(text)\r\n",
    "    clean_text = re.sub(\"RT\\s\\$MENTION\\$:\",\"retweet\",parsed_text)\r\n",
    "    clean_text = re.sub(\"\\$MENTION\\$:\",\"mentions\",clean_text)\r\n",
    "    clean_text = re.sub(\"\\$URL\\$\",\"link\",clean_text)\r\n",
    "    return clean_text\r\n",
    "    \r\n",
    "test = data[\"Tweet Text\"].iloc[91]\r\n",
    "rephrase_text(test)"
   ],
   "outputs": [
    {
     "output_type": "stream",
     "name": "stdout",
     "text": [
      "RT @ABC7: PHILIPPINES #EARTHQUAKE: Radio reports say 7.2-mag. quake has killed at least 4 people in central (more) http://t.co/MHGv5ifvHZ\n",
      "RT $MENTION$: PHILIPPINES #EARTHQUAKE: Radio reports say 7.2-mag. quake has killed at least 4 people in central (more) $URL$\n",
      "retweet PHILIPPINES #EARTHQUAKE: Radio reports say 7.2-mag. quake has killed at least 4 people in central (more) link\n"
     ]
    }
   ],
   "metadata": {}
  },
  {
   "cell_type": "code",
   "execution_count": 99,
   "source": [
    "def handle_hasttag(text):\r\n",
    "    p.set_options(p.OPT.HASHTAG) \r\n",
    "    parsed_text = p.parse(text)\r\n",
    "    for hashtag in parsed_text.hashtags:\r\n",
    "        match = hashtag.match\r\n",
    "        text = re.sub(match, \" \".join(wordninja.split(match)), text)\r\n",
    "    return text\r\n",
    "\r\n",
    "test = data[\"Tweet Text\"].iloc[93]\r\n",
    "handle_hasttag(test)"
   ],
   "outputs": [
    {
     "output_type": "stream",
     "name": "stdout",
     "text": [
      "#PrayforBoholandCebu #PrayForBohol #PrayForCarmenBohol 🙏🙏\n",
      "Pray for Bohol and Cebu Pray For Bohol Pray For Carmen Bohol 🙏🙏\n"
     ]
    }
   ],
   "metadata": {}
  },
  {
   "cell_type": "code",
   "execution_count": 104,
   "source": [
    "def remove_emoji(text):\r\n",
    "    p.set_options(p.OPT.EMOJI,p.OPT.SMILEY)\r\n",
    "    tokenized_text = p.tokenize(text)\r\n",
    "    tokenized_text = re.sub(re.escape(\"$EMOJI$\"),\"\",tokenized_text)\r\n",
    "    return tokenized_text\r\n",
    "\r\n",
    "\r\n",
    "test = data[\"Tweet Text\"].iloc[93]\r\n",
    "remove_emoji(test)"
   ],
   "outputs": [
    {
     "output_type": "stream",
     "name": "stdout",
     "text": [
      "#PrayforBoholandCebu #PrayForBohol #PrayForCarmenBohol $EMOJI$$EMOJI$\n",
      "#PrayforBoholandCebu #PrayForBohol #PrayForCarmenBohol \n"
     ]
    }
   ],
   "metadata": {}
  }
 ],
 "metadata": {
  "orig_nbformat": 4,
  "language_info": {
   "name": "python",
   "version": "3.8.11",
   "mimetype": "text/x-python",
   "codemirror_mode": {
    "name": "ipython",
    "version": 3
   },
   "pygments_lexer": "ipython3",
   "nbconvert_exporter": "python",
   "file_extension": ".py"
  },
  "kernelspec": {
   "name": "python3",
   "display_name": "Python 3.8.11 64-bit ('ds': conda)"
  },
  "interpreter": {
   "hash": "b5d4274ebb9180454c804b5ee419348493c013ff5d68b712df2e1ca9accf6ce7"
  }
 },
 "nbformat": 4,
 "nbformat_minor": 2
}